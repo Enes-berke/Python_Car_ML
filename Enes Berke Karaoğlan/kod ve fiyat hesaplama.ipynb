{
 "cells": [
  {
   "cell_type": "code",
   "execution_count": null,
   "id": "6629b16b",
   "metadata": {
    "scrolled": true
   },
   "outputs": [],
   "source": [
    "import pandas as pd\n",
    "from sklearn.ensemble import RandomForestRegressor\n",
    "\n",
    "def preprocess_data(data_path):\n",
    "    df = pd.read_csv(data_path)\n",
    "    df.drop(columns=['Unnamed: 0', 'New_Price'], inplace=True)\n",
    "    \n",
    "    df['Mileage'] = df['Mileage'].str.split(expand=True)[0].astype(float)\n",
    "    df['Engine'] = df['Engine'].str.split(expand=True)[0].astype(float)\n",
    "    \n",
    "    df['Power'] = df['Power'].replace('null bhp', None)\n",
    "    df['Power'] = df['Power'].str.split(expand=True)[0].astype(float)\n",
    "    \n",
    "    df['Mileage'] = df['Mileage'].fillna(df['Mileage'].mean())\n",
    "    df['Engine'] = df['Engine'].fillna(df['Engine'].mean())\n",
    "    df['Power'] = df['Power'].fillna(df['Power'].mean())\n",
    "    df['Seats'] = df['Seats'].fillna(df['Seats'].mean())\n",
    "    \n",
    "    df['Company'] = df['Name'].str.split(expand=True)[0].str.lower()\n",
    "    df['Model'] = df['Name'].str.split().str[0:2].str.join(' ').str.lower()\n",
    "    df.drop(columns=['Name'], inplace=True)\n",
    "    CatCols = ['Company', 'Model', 'Location', 'Owner_Type', 'Fuel_Type', 'Transmission']\n",
    "    df = pd.get_dummies(df, columns=CatCols, drop_first=True)\n",
    "    return df\n",
    "\n",
    "\n",
    "def train_random_forest(df):\n",
    "    X = df.drop(columns=['Price'])\n",
    "    y = df['Price']\n",
    "    random_forest = RandomForestRegressor(n_estimators=200, max_depth=20, min_samples_split=10)\n",
    "    random_forest.fit(X, y)\n",
    "    return random_forest\n",
    "\n",
    "def predict_car_price(model, sample_features):\n",
    "    sample_df = pd.DataFrame([sample_features])\n",
    "    sample_df_processed = preprocess_sample_data(sample_df, processed_df.columns)\n",
    "    predicted_price = model.predict(sample_df_processed)\n",
    "    return predicted_price[0]\n",
    "\n",
    "def preprocess_sample_data(sample_df, column_names):\n",
    "    processed_column_names = column_names.drop('Price')\n",
    "    sample_df_processed = pd.get_dummies(sample_df, columns=sample_df.columns)\n",
    "    sample_df_processed = sample_df_processed.reindex(columns=processed_column_names, fill_value=0)\n",
    "    return sample_df_processed\n",
    "\n",
    "if __name__ == \"__main__\":\n",
    "    data_path = \"C:/Users/ASUS/Desktop/set/train-data.csv\"\n",
    "    processed_df = preprocess_data(data_path)\n",
    "    model = train_random_forest(processed_df)\n",
    "\n",
    "    sample_features = {}\n",
    "    input_labels = ['Company', 'Model', 'Location', 'Owner_Type', 'Fuel_Type', 'Transmission',\n",
    "                    'Year', 'Kilometers_Driven', 'Mileage', 'Engine', 'Power', 'Seats']\n",
    "    for label in input_labels:\n",
    "        sample_features[label] = input(f\"{label}: \")\n",
    "\n",
    "    predicted_price = predict_car_price(model, sample_features)\n",
    "    # Fiyatı 1 milyonla çarpıp tam sayı kısmını alarak, her üç basamakta bir nokta ekleyerek görüntüleme\n",
    "    predicted_price *= 1000000\n",
    "    predicted_price = \"{:,.0f}\".format(predicted_price)\n",
    "    predicted_price = f\"{predicted_price} TL\"\n",
    "    print(f\"Tahmin Edilen Araba Fiyatı: {predicted_price}\")\n"
   ]
  },
  {
   "cell_type": "code",
   "execution_count": null,
   "id": "c1a7e457",
   "metadata": {},
   "outputs": [],
   "source": []
  }
 ],
 "metadata": {
  "kernelspec": {
   "display_name": "Python 3 (ipykernel)",
   "language": "python",
   "name": "python3"
  },
  "language_info": {
   "codemirror_mode": {
    "name": "ipython",
    "version": 3
   },
   "file_extension": ".py",
   "mimetype": "text/x-python",
   "name": "python",
   "nbconvert_exporter": "python",
   "pygments_lexer": "ipython3",
   "version": "3.11.7"
  }
 },
 "nbformat": 4,
 "nbformat_minor": 5
}
